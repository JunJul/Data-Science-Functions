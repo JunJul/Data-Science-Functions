{
 "cells": [
  {
   "cell_type": "markdown",
   "id": "a44e33cb-05d6-462b-898c-f1a2a657595f",
   "metadata": {},
   "source": [
    "**Note: In order to use these functions, you have to import pcorrseponding packages**"
   ]
  },
  {
   "cell_type": "markdown",
   "id": "0c04928f-dbac-4bb4-9a43-717ab114e024",
   "metadata": {},
   "source": [
    "## Data Science Functions"
   ]
  },
  {
   "cell_type": "markdown",
   "id": "11e12125-b069-458f-8371-0ae26d76375f",
   "metadata": {},
   "source": [
    "Author: Junze He"
   ]
  },
  {
   "cell_type": "markdown",
   "id": "5a18cfce-dec1-4690-8870-9fa4d11c208e",
   "metadata": {},
   "source": [
    "### Exploratory data analysis"
   ]
  },
  {
   "cell_type": "markdown",
   "id": "724db253-dbff-488a-8b15-551f7df61402",
   "metadata": {},
   "source": [
    "Packages: matplotlib, statsmodels, ConfusionMatrixDisplay"
   ]
  },
  {
   "cell_type": "markdown",
   "id": "69842683-282f-4e02-9efc-e4e23adb6aeb",
   "metadata": {},
   "source": [
    "#### Graphs"
   ]
  },
  {
   "cell_type": "code",
   "execution_count": 24,
   "id": "fb538ebf-5d10-4cce-81dc-2c05a626d6e4",
   "metadata": {},
   "outputs": [],
   "source": [
    "# plot the confusion matrix\n",
    "def confusionMatrixPlot(cm, labels):\n",
    "    # cm = model.pred_table(threshold=0.5)\n",
    "    cm_dis = ConfusionMatrixDisplay(cm, display_labels=labels)\n",
    "    cm_dis.plot(cmap=plt.cm.Blues)\n",
    "\n",
    "# The function takes a dataframe arugument to generate a matrix count plot @ Modified\n",
    "def maxtrixCountPlot(input_data):\n",
    "    rows = 4\n",
    "    cols = 3\n",
    "    row_count = col_count = 0\n",
    "    fig, axe = plt.subplots(rows, cols, figsize=(20,15))\n",
    "    \n",
    "    for i in input_data.columns:\n",
    "        sns.countplot(x = input_data[i],\n",
    "                      ax=axe[row_count, col_count],\n",
    "                      hue = input_data[i],\n",
    "                      palette=\"flare\")\n",
    "        col_count += 1\n",
    "    \n",
    "        if col_count >= cols:\n",
    "            col_count = 0\n",
    "            row_count += 1\n",
    "    \n",
    "    fig.delaxes(axe[3, 1])\n",
    "    fig.delaxes(axe[3, 2])"
   ]
  },
  {
   "cell_type": "markdown",
   "id": "f3e35e77-3091-4671-a7ff-e95989cd49f6",
   "metadata": {},
   "source": [
    "#### Statsmodels"
   ]
  },
  {
   "cell_type": "code",
   "execution_count": 21,
   "id": "a3b52816-4553-4a07-a535-584be55906f1",
   "metadata": {},
   "outputs": [],
   "source": [
    "# statsmodels for logistic Regression\n",
    "def statsLogModel(x, y):\n",
    "    x = sm.add_constant(x)\n",
    "    statsLogitModel = sm.Logit(y, x).fit()\n",
    "    \n",
    "    return statsLogitModel"
   ]
  },
  {
   "cell_type": "markdown",
   "id": "ab3a3461-0985-452e-8463-3ebd75f9982b",
   "metadata": {},
   "source": [
    "### Data Preprocessing"
   ]
  },
  {
   "cell_type": "markdown",
   "id": "dcc339b0-fa43-4994-a7b6-3d79984f7b17",
   "metadata": {},
   "source": [
    "Packages: standardScaler, RandomOverSampler, RandomUnderSampler"
   ]
  },
  {
   "cell_type": "code",
   "execution_count": 13,
   "id": "8b3099ff-6e7c-4b67-bb30-626a9fd53bee",
   "metadata": {},
   "outputs": [],
   "source": [
    "# split data types into numerical and categorical data\n",
    "    # returns two items\n",
    "def split_types(data):\n",
    "    numerical_features = data.select_dtypes([\"int64\", \"float64\"])\n",
    "    categorical_features = data.select_dtypes([\"object\", \"category\"])\n",
    "    \n",
    "    return numerical_features, categorical_features\n",
    "\n",
    "# scale data\n",
    "def scale(x):\n",
    "    scaler = StandardScaler()\n",
    "    scaler.fit(x)\n",
    "    scaled_x = scaler.transform(x)\n",
    "    return scaled_x"
   ]
  },
  {
   "cell_type": "markdown",
   "id": "683aa135-ed47-416f-912b-2ca7cd82a5e6",
   "metadata": {},
   "source": [
    "Author: Giovanni Cinque"
   ]
  },
  {
   "cell_type": "code",
   "execution_count": 20,
   "id": "7751055e-a87c-4ae7-9e24-fe803b9616a6",
   "metadata": {},
   "outputs": [],
   "source": [
    "# oversampling data\n",
    "def oversampling(x, y):\n",
    "    ros = RandomOverSampler()\n",
    "    x, y = ros.fit_resample(x, y)\n",
    "    return x, y\n",
    "\n",
    "# undersampling data\n",
    "def undersampling(x,y):\n",
    "    rus = RandomUnderSampler()\n",
    "    x, y = rus.fit_resample(x,y)\n",
    "    return x, y"
   ]
  },
  {
   "cell_type": "markdown",
   "id": "5ef78b1c-7d47-46da-b17b-8e9948579490",
   "metadata": {},
   "source": [
    "Author: Junze He"
   ]
  },
  {
   "cell_type": "markdown",
   "id": "79920542-3e1a-4582-848a-10b7d39f441e",
   "metadata": {},
   "source": [
    "### Feature Engineering"
   ]
  },
  {
   "cell_type": "markdown",
   "id": "d6cc690b-3fc1-4abd-8edd-e818f6916c80",
   "metadata": {},
   "source": [
    "Author Junze He"
   ]
  },
  {
   "cell_type": "markdown",
   "id": "daf98949-1759-4ddd-9148-4788094e1b98",
   "metadata": {},
   "source": [
    "Packages: OrdinalEncoder, OrdinalEncoder, numpy"
   ]
  },
  {
   "cell_type": "code",
   "execution_count": 25,
   "id": "622f9662-f5e8-49e3-a02b-7ec411871485",
   "metadata": {},
   "outputs": [],
   "source": [
    "# Encoding Functions\n",
    "  # encode the categorical features into ordinal numbers\n",
    "def ordinal_catfeatures_encoder(data):\n",
    "    encoder = OrdinalEncoder()\n",
    "    encoded_data = encoder.fit_transform(data)\n",
    "    encoded_dataframe =  pd.DataFrame(encoded_data)\n",
    "    encoded_dataframe.columns = data.columns\n",
    "    \n",
    "    return encoded_dataframe\n",
    "\n",
    "  # one-hot encoding\n",
    "    # encode the categorical features into dummy variables and return encoder as well\n",
    "def onehot_eoncoder(data):\n",
    "    encoder = OneHotEncoder(handle_unknown='ignore')\n",
    "    encoded_data = encoder.fit_transform(data)\n",
    "    encoded_dataframe = pd.DataFrame(encoded_data.toarray())\n",
    "    \n",
    "    return encoded_dataframe, encoder\n",
    "\n",
    "  # Frequency encoding\n",
    "def frequency_encoder(data, is_normalize = True):\n",
    "    length = data.shape[1]\n",
    "    columns = data.columns\n",
    "    new_data = data.copy()\n",
    "    \n",
    "    for i in range(length):\n",
    "        frequency = new_data[columns[i]].value_counts(normalize=True)\n",
    "        new_data[columns[i]] = new_data[columns[i]].map(frequency)\n",
    "    \n",
    "    return new_data;"
   ]
  },
  {
   "cell_type": "markdown",
   "id": "4932d347-195e-4a77-b5be-d0667d4a04f0",
   "metadata": {},
   "source": [
    "### Models"
   ]
  },
  {
   "cell_type": "markdown",
   "id": "73b550e3-589d-40e2-909f-2971d30017f1",
   "metadata": {},
   "source": [
    "Packages: Pipeline,  ColumnTransforme, rconfusion_matrix, ConfusionMatrixDispla\n",
    "\n",
    "  accuracy_scor, t classification_repo, rt SimpleImpu, ort cross_val_s, port Shuffl, train_test_spliteSplit"
   ]
  },
  {
   "cell_type": "code",
   "execution_count": 28,
   "id": "e1bd8932-e5cf-457c-a846-1f4601bd6a96",
   "metadata": {},
   "outputs": [],
   "source": [
    "# The pipelineModel function returns a model, confusion matrix, summary table, and validation score.\n",
    "\n",
    "def pipelineModel(model, x, y, ordinalEncoder=True):\n",
    "    # shuffle and set corss validation to n = 5 folds\n",
    "    cv = ShuffleSplit(n_splits=5, test_size = 0.2, random_state=0)\n",
    "    \n",
    "    # divide data into train and test\n",
    "    train_x, test_x, train_y, test_y = train_test_split(\n",
    "      x,\n",
    "      y,\n",
    "      test_size=0.2,\n",
    "      shuffle=True\n",
    "      )\n",
    "    \n",
    "    # impute missing values with median in numerical variables\n",
    "    numerical_transformer = SimpleImputer(strategy=\"median\")\n",
    "    \n",
    "    # impute missing values with most frequent value in categorical variables\n",
    "    # encode categorical variable by ordinal numbers\n",
    "    encoder = OneHotEncoder(handle_unknown='ignore')\n",
    "    encoder_title = \"One Hot Encoding\"\n",
    "    \n",
    "    if ordinalEncoder:\n",
    "        encoder = OrdinalEncoder()\n",
    "        encoder_title = \"Oridnal Encoding\"\n",
    "        \n",
    "    categorical_transformer = Pipeline(\n",
    "      steps=[\n",
    "      (\"Imputer\", SimpleImputer(strategy=\"most_frequent\")),\n",
    "      (encoder_title, encoder)\n",
    "      ]\n",
    "    )\n",
    "    \n",
    "    # use columnTransformer to combine preprocessing steps in both numerical and categorical variables\n",
    "    preprocessor = ColumnTransformer(\n",
    "      transformers=[\n",
    "          (\"num\", numerical_transformer, numerical_cols),\n",
    "          (\"cat\", categorical_transformer, categorical_cols),\n",
    "      ]\n",
    "    )\n",
    "    \n",
    "    # after preprocess data, we scale variables into the same unit, then create a model\n",
    "    my_pipeline = Pipeline(\n",
    "    steps=[\n",
    "        (\"preprocessor\", preprocessor),\n",
    "         ('scaler', StandardScaler()),\n",
    "        (\"model\", model)\n",
    "    ]\n",
    "    )\n",
    "    \n",
    "    my_pipeline.fit(train_x, train_y)\n",
    "    \n",
    "    # get predictions\n",
    "    predictions = my_pipeline.predict(test_x)\n",
    "    # get confusion matrix\n",
    "    cm = confusion_matrix(predictions, test_y)\n",
    "    # produce a summary of the model\n",
    "    report = classification_report(predictions, test_y)\n",
    "    # test the model by corss validation\n",
    "    validation_score = cross_val_score(my_pipeline, train_x, train_y, cv=cv)\n",
    "    \n",
    "    return my_pipeline, cm, report, validation_score"
   ]
  },
  {
   "cell_type": "code",
   "execution_count": null,
   "id": "24c38ecf-a528-4e53-937c-16406b55b4f0",
   "metadata": {},
   "outputs": [],
   "source": []
  }
 ],
 "metadata": {
  "kernelspec": {
   "display_name": "Python 3 (ipykernel)",
   "language": "python",
   "name": "python3"
  },
  "language_info": {
   "codemirror_mode": {
    "name": "ipython",
    "version": 3
   },
   "file_extension": ".py",
   "mimetype": "text/x-python",
   "name": "python",
   "nbconvert_exporter": "python",
   "pygments_lexer": "ipython3",
   "version": "3.11.7"
  }
 },
 "nbformat": 4,
 "nbformat_minor": 5
}
